{
 "cells": [
  {
   "cell_type": "markdown",
   "id": "d3f49a33",
   "metadata": {},
   "source": [
    "# List\n",
    "\n",
    "**WAP to print length of the list without using len function**"
   ]
  },
  {
   "cell_type": "code",
   "execution_count": 1,
   "id": "1885206a",
   "metadata": {},
   "outputs": [
    {
     "name": "stdout",
     "output_type": "stream",
     "text": [
      "Length = 6\n"
     ]
    }
   ],
   "source": [
    "l = [11,12,22,3,4,16]\n",
    "i = 0\n",
    "\n",
    "while l[i:]:\n",
    "    i += 1\n",
    "\n",
    "print(\"Length =\", i)"
   ]
  },
  {
   "cell_type": "markdown",
   "id": "6a1bf65b",
   "metadata": {},
   "source": [
    "**WAP to print sum of all the elements in a list without using sum function**"
   ]
  },
  {
   "cell_type": "code",
   "execution_count": 2,
   "id": "283c543a",
   "metadata": {},
   "outputs": [
    {
     "name": "stdout",
     "output_type": "stream",
     "text": [
      "Sum = 68\n"
     ]
    }
   ],
   "source": [
    "l = [11,12,22,3,4,16]\n",
    "#       i\n",
    "i = 0\n",
    "s = 0\n",
    "\n",
    "while l[i:]:\n",
    "    s = s + l[i]         # s = 0, 11, 23\n",
    "    i += 1\n",
    "\n",
    "print(\"Sum =\", s)"
   ]
  },
  {
   "cell_type": "markdown",
   "id": "4e1c3016",
   "metadata": {},
   "source": [
    "**WAP to print the maximum value from a list without using max function**"
   ]
  },
  {
   "cell_type": "code",
   "execution_count": 3,
   "id": "dc5b8275",
   "metadata": {},
   "outputs": [
    {
     "name": "stdout",
     "output_type": "stream",
     "text": [
      "Maximum = 22\n"
     ]
    }
   ],
   "source": [
    "l = [11,12,22,3,4,16]\n",
    "#        m\n",
    "i = 0\n",
    "m = l[0]\n",
    "\n",
    "while l[i:]:\n",
    "    if m < l[i]:\n",
    "        m = l[i]\n",
    "    i += 1\n",
    "\n",
    "print(\"Maximum =\", m)"
   ]
  },
  {
   "cell_type": "markdown",
   "id": "814bbcec",
   "metadata": {},
   "source": [
    "**WAP to print the minimum value from a list without using min function**"
   ]
  },
  {
   "cell_type": "code",
   "execution_count": 4,
   "id": "1418ba48",
   "metadata": {},
   "outputs": [
    {
     "name": "stdout",
     "output_type": "stream",
     "text": [
      "Minimum = 3\n"
     ]
    }
   ],
   "source": [
    "l = [11,12,22,3,4,16]\n",
    "#    m\n",
    "i = 0\n",
    "m = l[0]\n",
    "\n",
    "while l[i:]:\n",
    "    if m > l[i]:\n",
    "        m = l[i]\n",
    "    i += 1\n",
    "\n",
    "print(\"Minimum =\", m)"
   ]
  },
  {
   "cell_type": "markdown",
   "id": "5edb2e06",
   "metadata": {},
   "source": [
    "**WAP to reverse of a list without using reverse method or slicing**"
   ]
  },
  {
   "cell_type": "code",
   "execution_count": 5,
   "id": "c3de25d8",
   "metadata": {},
   "outputs": [
    {
     "name": "stdout",
     "output_type": "stream",
     "text": [
      "16 4 3 22 12 11 "
     ]
    }
   ],
   "source": [
    "l = [11,12,22,3,4,16]\n",
    "#                 i\n",
    "i = len(l) - 1\n",
    "\n",
    "while i >= 0:\n",
    "    print(l[i], end=\" \")\n",
    "    i -= 1"
   ]
  },
  {
   "cell_type": "code",
   "execution_count": 8,
   "id": "c50738ba",
   "metadata": {},
   "outputs": [
    {
     "name": "stdout",
     "output_type": "stream",
     "text": [
      "[11, 12, 22, 3, 4, 16]\n",
      "[16, 4, 3, 22, 12, 11]\n"
     ]
    }
   ],
   "source": [
    "l = [11,12,22,3,4,16]\n",
    "#                 i\n",
    "a = []\n",
    "i = len(l) - 1\n",
    "\n",
    "while i >= 0:\n",
    "    a.append(l[i])\n",
    "    i -= 1\n",
    "\n",
    "print(l)\n",
    "print(a)"
   ]
  },
  {
   "cell_type": "markdown",
   "id": "9a209407",
   "metadata": {},
   "source": [
    "# Searching\n",
    "\n",
    "Linear Search"
   ]
  },
  {
   "cell_type": "code",
   "execution_count": 10,
   "id": "020f68e4",
   "metadata": {},
   "outputs": [
    {
     "name": "stdout",
     "output_type": "stream",
     "text": [
      "Enter an element to search: 71\n",
      "Search Success\n"
     ]
    }
   ],
   "source": [
    "l = [11,10,130,44,55,61,71,80,90,100]\n",
    "#    n\n",
    "\n",
    "i = 0\n",
    "n = int(input(\"Enter an element to search: \"))\n",
    "\n",
    "f = 0   # flagbit variable\n",
    "\n",
    "while l[i:]:\n",
    "    if n == l[i]:\n",
    "        f = 1\n",
    "        break\n",
    "    i += 1\n",
    "\n",
    "if f == 1:\n",
    "    print(\"Search Success\")\n",
    "else:\n",
    "    print(\"Element Not Found\")"
   ]
  },
  {
   "cell_type": "code",
   "execution_count": 11,
   "id": "ebbbee2c",
   "metadata": {},
   "outputs": [
    {
     "name": "stdout",
     "output_type": "stream",
     "text": [
      "Enter an element to search: 71\n",
      "Search Success and frequency = 2\n"
     ]
    }
   ],
   "source": [
    "l = [11,10,130,44,55,61,71,80,71,100]\n",
    "#    n\n",
    "\n",
    "i = 0\n",
    "n = int(input(\"Enter an element to search: \"))\n",
    "\n",
    "f = 0   # flagbit variable\n",
    "c = 0\n",
    "\n",
    "while l[i:]:\n",
    "    if n == l[i]:\n",
    "        f = 1\n",
    "        c += 1\n",
    "    i += 1\n",
    "\n",
    "if f == 1:\n",
    "    print(\"Search Success and frequency =\", c)\n",
    "else:\n",
    "    print(\"Element Not Found\")"
   ]
  },
  {
   "cell_type": "markdown",
   "id": "464a20c1",
   "metadata": {},
   "source": [
    "# Membership Operator search"
   ]
  },
  {
   "cell_type": "code",
   "execution_count": 1,
   "id": "d629daba",
   "metadata": {},
   "outputs": [
    {
     "name": "stdout",
     "output_type": "stream",
     "text": [
      "True\n"
     ]
    }
   ],
   "source": [
    "l = [1,2,3,4,5]\n",
    "\n",
    "print(3 in l)"
   ]
  },
  {
   "cell_type": "code",
   "execution_count": 2,
   "id": "e4f4181b",
   "metadata": {},
   "outputs": [
    {
     "name": "stdout",
     "output_type": "stream",
     "text": [
      "True\n"
     ]
    }
   ],
   "source": [
    "print(7 not in l)"
   ]
  },
  {
   "cell_type": "code",
   "execution_count": 3,
   "id": "62cc6316",
   "metadata": {},
   "outputs": [],
   "source": [
    "# linear search\n",
    "\n",
    "def LinearSearch(l, element):\n",
    "    for i in range(len(l)):\n",
    "        if l[i] == element:\n",
    "            return 1\n",
    "    return -1"
   ]
  },
  {
   "cell_type": "code",
   "execution_count": 6,
   "id": "be32968b",
   "metadata": {},
   "outputs": [
    {
     "name": "stdout",
     "output_type": "stream",
     "text": [
      "Enter a Number: 100\n",
      "Search Fail\n"
     ]
    }
   ],
   "source": [
    "n = [11,23,45,3,7,54,99,66]\n",
    "\n",
    "k = int(input(\"Enter a Number: \"))\n",
    "\n",
    "x = LinearSearch(n, k)\n",
    "\n",
    "if x == 1:\n",
    "    print(\"Search Success\")\n",
    "else:\n",
    "    print(\"Search Fail\")"
   ]
  },
  {
   "cell_type": "markdown",
   "id": "60f877f4",
   "metadata": {},
   "source": [
    "# Binary Search\n",
    "\n",
    "- elements should be sorted"
   ]
  },
  {
   "cell_type": "code",
   "execution_count": 7,
   "id": "32d7757f",
   "metadata": {},
   "outputs": [
    {
     "name": "stdout",
     "output_type": "stream",
     "text": [
      "Search Success\n"
     ]
    }
   ],
   "source": [
    "#                     mid   \n",
    "#                     high       \n",
    "#                     low\n",
    "#    0  1  2  3  4  5  6  7  8   9\n",
    "n = [10,20,30,40,50,60,70,80,90,100]\n",
    "\n",
    "low = 0\n",
    "high = len(n) - 1\n",
    "\n",
    "x = 70\n",
    "f = 0\n",
    "\n",
    "while low <= high:\n",
    "    mid = (low + high)//2           # low = 0, 5, 6\n",
    "    if n[mid] == x:                 # high= 9, 6\n",
    "        f = 1\n",
    "        break                       # mid = 4, 7, 5, 6\n",
    "    elif n[mid] > x:                # x = 70\n",
    "        high = mid - 1              # f = 0\n",
    "    else:\n",
    "        low = mid + 1\n",
    "    \n",
    "if f == 1:\n",
    "    print(\"Search Success\")\n",
    "else:\n",
    "    print(\"Search Fail\")"
   ]
  },
  {
   "cell_type": "markdown",
   "id": "eb49059d",
   "metadata": {},
   "source": [
    "# Swapping"
   ]
  },
  {
   "cell_type": "code",
   "execution_count": 8,
   "id": "556c8dd2",
   "metadata": {},
   "outputs": [
    {
     "name": "stdout",
     "output_type": "stream",
     "text": [
      "20\n",
      "10\n"
     ]
    }
   ],
   "source": [
    "a = 10\n",
    "b = 20\n",
    "\n",
    "c = a        # a = 10, 20\n",
    "a = b        # b = 20, 10\n",
    "b = c        # c = 10\n",
    "\n",
    "print(a)\n",
    "print(b)"
   ]
  },
  {
   "cell_type": "markdown",
   "id": "e0a520ff",
   "metadata": {},
   "source": [
    "### swapping without using 3rd variable"
   ]
  },
  {
   "cell_type": "code",
   "execution_count": 9,
   "id": "8e69f80b",
   "metadata": {},
   "outputs": [
    {
     "name": "stdout",
     "output_type": "stream",
     "text": [
      "20\n",
      "10\n"
     ]
    }
   ],
   "source": [
    "a = 10   # 30, 20\n",
    "b = 20   # 10\n",
    "\n",
    "a = a + b\n",
    "b = a - b\n",
    "a = a - b\n",
    "\n",
    "print(a)\n",
    "print(b)"
   ]
  },
  {
   "cell_type": "code",
   "execution_count": 10,
   "id": "b08380bc",
   "metadata": {},
   "outputs": [
    {
     "name": "stdout",
     "output_type": "stream",
     "text": [
      "20\n",
      "10\n"
     ]
    }
   ],
   "source": [
    "a = 10\n",
    "b = 20\n",
    "\n",
    "a,b = b,a\n",
    "#     (20,10)\n",
    "\n",
    "print(a)\n",
    "print(b)"
   ]
  },
  {
   "cell_type": "markdown",
   "id": "00de74db",
   "metadata": {},
   "source": [
    "# Sorting\n",
    "\n",
    "\n",
    "### bubble sort"
   ]
  },
  {
   "cell_type": "code",
   "execution_count": null,
   "id": "de4b27cd",
   "metadata": {},
   "outputs": [],
   "source": [
    "[10,20,30,40,50]\n",
    "           i  j\n"
   ]
  },
  {
   "cell_type": "code",
   "execution_count": 11,
   "id": "f968c291",
   "metadata": {},
   "outputs": [
    {
     "name": "stdout",
     "output_type": "stream",
     "text": [
      "[1, 2, 3, 4, 12, 17, 43, 47, 54, 66]\n"
     ]
    }
   ],
   "source": [
    "n = [12,43,54,66,47,17,3,2,4,1]\n",
    "#    i                 j\n",
    "\n",
    "for i in range(len(n)-1):\n",
    "    for j in range(i + 1,len(n)):\n",
    "        if n[i] > n[j]:\n",
    "            n[i],n[j] = n[j],n[i]\n",
    "\n",
    "print(n)"
   ]
  },
  {
   "cell_type": "code",
   "execution_count": null,
   "id": "b155f204",
   "metadata": {},
   "outputs": [],
   "source": []
  }
 ],
 "metadata": {
  "kernelspec": {
   "display_name": "Python 3 (ipykernel)",
   "language": "python",
   "name": "python3"
  },
  "language_info": {
   "codemirror_mode": {
    "name": "ipython",
    "version": 3
   },
   "file_extension": ".py",
   "mimetype": "text/x-python",
   "name": "python",
   "nbconvert_exporter": "python",
   "pygments_lexer": "ipython3",
   "version": "3.9.12"
  }
 },
 "nbformat": 4,
 "nbformat_minor": 5
}
