{
 "cells": [
  {
   "cell_type": "markdown",
   "id": "84abf3c2",
   "metadata": {},
   "source": [
    "# Function as a parameter"
   ]
  },
  {
   "cell_type": "code",
   "execution_count": 1,
   "id": "b7269c16",
   "metadata": {},
   "outputs": [
    {
     "name": "stdout",
     "output_type": "stream",
     "text": [
      "100\n"
     ]
    }
   ],
   "source": [
    "def square(n):\n",
    "    return n * n\n",
    "\n",
    "def myfunction(f, number):\n",
    "    s = f(number)\n",
    "    # square(10)\n",
    "    return s\n",
    "\n",
    "z = myfunction(square, 10)\n",
    "\n",
    "print(z)"
   ]
  },
  {
   "cell_type": "markdown",
   "id": "6cf8df20",
   "metadata": {},
   "source": [
    "# Function as a return Value"
   ]
  },
  {
   "cell_type": "code",
   "execution_count": 2,
   "id": "f14f3890",
   "metadata": {},
   "outputs": [
    {
     "name": "stdout",
     "output_type": "stream",
     "text": [
      "49\n"
     ]
    }
   ],
   "source": [
    "def square(n):\n",
    "    return n * n\n",
    "\n",
    "def cube(n):\n",
    "    return n * n * n\n",
    "\n",
    "def myfunction(t):\n",
    "    if t == 'square':\n",
    "        return square\n",
    "    elif t == 'cube':\n",
    "        return cube\n",
    "\n",
    "pen = myfunction('square')\n",
    "print(pen(7))"
   ]
  },
  {
   "cell_type": "code",
   "execution_count": 3,
   "id": "1f121526",
   "metadata": {},
   "outputs": [
    {
     "name": "stdout",
     "output_type": "stream",
     "text": [
      "343\n"
     ]
    }
   ],
   "source": [
    "pen = myfunction('cube')\n",
    "print(pen(7))"
   ]
  },
  {
   "cell_type": "markdown",
   "id": "486ae506",
   "metadata": {},
   "source": [
    "# Closures"
   ]
  },
  {
   "cell_type": "code",
   "execution_count": 4,
   "id": "6d8a8b31",
   "metadata": {},
   "outputs": [
    {
     "name": "stdout",
     "output_type": "stream",
     "text": [
      "20\n"
     ]
    }
   ],
   "source": [
    "def add_ten():\n",
    "    ten = 10\n",
    "    def add(n):\n",
    "        return n + ten\n",
    "    return add\n",
    "\n",
    "r = add_ten()\n",
    "print(r(10))"
   ]
  },
  {
   "cell_type": "code",
   "execution_count": 5,
   "id": "ff0c5307",
   "metadata": {},
   "outputs": [
    {
     "name": "stdout",
     "output_type": "stream",
     "text": [
      "25\n"
     ]
    }
   ],
   "source": [
    "print(r(15))"
   ]
  },
  {
   "cell_type": "markdown",
   "id": "0ca4eb34",
   "metadata": {},
   "source": [
    "# Decorators"
   ]
  },
  {
   "cell_type": "code",
   "execution_count": 6,
   "id": "9eaa6d1a",
   "metadata": {},
   "outputs": [
    {
     "name": "stdout",
     "output_type": "stream",
     "text": [
      "WELCOME TO THE WORLD\n"
     ]
    }
   ],
   "source": [
    "# normal function\n",
    "\n",
    "def greeting():\n",
    "    return 'Welcome to the World'\n",
    "\n",
    "def uppercase_decorator(func):\n",
    "    def wrapper():\n",
    "        f = func()\n",
    "        uppercase = f.upper()\n",
    "        return uppercase\n",
    "    return wrapper\n",
    "\n",
    "g = uppercase_decorator(greeting)\n",
    "\n",
    "print(g())"
   ]
  },
  {
   "cell_type": "code",
   "execution_count": 7,
   "id": "bdffd78a",
   "metadata": {},
   "outputs": [
    {
     "name": "stdout",
     "output_type": "stream",
     "text": [
      "WELCOME TO INDIA\n"
     ]
    }
   ],
   "source": [
    "# using decorator\n",
    "\n",
    "def uppercase_decorator(func):\n",
    "    def wrapper():\n",
    "        f = func()\n",
    "        uppercase = f.upper()\n",
    "        return uppercase\n",
    "    return wrapper\n",
    "\n",
    "@uppercase_decorator\n",
    "def greet():\n",
    "    return 'Welcome to the World'\n",
    "\n",
    "print(greet())"
   ]
  },
  {
   "cell_type": "markdown",
   "id": "8a487d06",
   "metadata": {},
   "source": [
    "# Built-in Higher order functions\n",
    "\n",
    "\n",
    "### map"
   ]
  },
  {
   "cell_type": "code",
   "execution_count": 11,
   "id": "7bb7f1ce",
   "metadata": {},
   "outputs": [],
   "source": [
    "# help(map)"
   ]
  },
  {
   "cell_type": "code",
   "execution_count": 12,
   "id": "d7d70c41",
   "metadata": {},
   "outputs": [
    {
     "name": "stdout",
     "output_type": "stream",
     "text": [
      "<map object at 0x0000020D6F725760>\n"
     ]
    }
   ],
   "source": [
    "n = [1,2,3,4,5]\n",
    "\n",
    "def add(x):\n",
    "    return x + 5\n",
    "\n",
    "print(map(add, n))"
   ]
  },
  {
   "cell_type": "code",
   "execution_count": 13,
   "id": "59000086",
   "metadata": {},
   "outputs": [
    {
     "name": "stdout",
     "output_type": "stream",
     "text": [
      "[6, 7, 8, 9, 10]\n"
     ]
    }
   ],
   "source": [
    "print(list(map(add, n)))"
   ]
  },
  {
   "cell_type": "code",
   "execution_count": 14,
   "id": "1817268b",
   "metadata": {},
   "outputs": [
    {
     "name": "stdout",
     "output_type": "stream",
     "text": [
      "['SUNIL', 'HIMANSHU', 'ALEX']\n"
     ]
    }
   ],
   "source": [
    "n = ['Sunil', 'Himanshu', 'Alex']\n",
    "\n",
    "def change_to_upper(name):\n",
    "    return name.upper()\n",
    "\n",
    "print(list(map(change_to_upper, n)))"
   ]
  },
  {
   "cell_type": "markdown",
   "id": "39a9407f",
   "metadata": {},
   "source": [
    "### Filter "
   ]
  },
  {
   "cell_type": "code",
   "execution_count": 15,
   "id": "8ca40629",
   "metadata": {},
   "outputs": [
    {
     "name": "stdout",
     "output_type": "stream",
     "text": [
      "[22, 44]\n"
     ]
    }
   ],
   "source": [
    "n = [11,22,33,44,55]\n",
    "\n",
    "def even(x):\n",
    "    if x % 2 == 0:\n",
    "        return True\n",
    "    return False\n",
    "\n",
    "print(list(filter(even, n)))"
   ]
  },
  {
   "cell_type": "markdown",
   "id": "44d45806",
   "metadata": {},
   "source": [
    "# lambda function"
   ]
  },
  {
   "cell_type": "code",
   "execution_count": null,
   "id": "70dbbf2d",
   "metadata": {},
   "outputs": [],
   "source": [
    "# lambda (argument) : expression"
   ]
  },
  {
   "cell_type": "code",
   "execution_count": 16,
   "id": "3e12df81",
   "metadata": {},
   "outputs": [
    {
     "name": "stdout",
     "output_type": "stream",
     "text": [
      "27\n"
     ]
    }
   ],
   "source": [
    "def cube(x):\n",
    "    return x * x * x\n",
    "\n",
    "\n",
    "g = lambda x: x * x * x\n",
    "\n",
    "\n",
    "print(cube(3))"
   ]
  },
  {
   "cell_type": "code",
   "execution_count": 18,
   "id": "e51ec887",
   "metadata": {},
   "outputs": [
    {
     "name": "stdout",
     "output_type": "stream",
     "text": [
      "343\n"
     ]
    }
   ],
   "source": [
    "print(g(7))"
   ]
  },
  {
   "cell_type": "code",
   "execution_count": 19,
   "id": "cc67ea29",
   "metadata": {},
   "outputs": [
    {
     "name": "stdout",
     "output_type": "stream",
     "text": [
      "[22, 44]\n"
     ]
    }
   ],
   "source": [
    "n = [11,22,33,44,55]\n",
    "\n",
    "print(list(filter(lambda x: x % 2 == 0 , n)))"
   ]
  },
  {
   "cell_type": "markdown",
   "id": "dba472c7",
   "metadata": {},
   "source": [
    "### reduce"
   ]
  },
  {
   "cell_type": "code",
   "execution_count": 22,
   "id": "845336bf",
   "metadata": {
    "scrolled": true
   },
   "outputs": [
    {
     "name": "stdout",
     "output_type": "stream",
     "text": [
      "Help on built-in function reduce in module _functools:\n",
      "\n",
      "reduce(...)\n",
      "    reduce(function, sequence[, initial]) -> value\n",
      "    \n",
      "    Apply a function of two arguments cumulatively to the items of a sequence,\n",
      "    from left to right, so as to reduce the sequence to a single value.\n",
      "    For example, reduce(lambda x, y: x+y, [1, 2, 3, 4, 5]) calculates\n",
      "    ((((1+2)+3)+4)+5).  If initial is present, it is placed before the items\n",
      "    of the sequence in the calculation, and serves as a default when the\n",
      "    sequence is empty.\n",
      "\n"
     ]
    }
   ],
   "source": [
    "import functools\n",
    "help(functools.reduce)"
   ]
  },
  {
   "cell_type": "code",
   "execution_count": 23,
   "id": "818c1519",
   "metadata": {},
   "outputs": [
    {
     "name": "stdout",
     "output_type": "stream",
     "text": [
      "15\n"
     ]
    }
   ],
   "source": [
    "n = [1,2,3,4,5]\n",
    "\n",
    "def add(x, y):\n",
    "    return x + y\n",
    "\n",
    "t = functools.reduce(add, n)\n",
    "\n",
    "print(t)"
   ]
  },
  {
   "cell_type": "code",
   "execution_count": null,
   "id": "77810633",
   "metadata": {},
   "outputs": [],
   "source": []
  }
 ],
 "metadata": {
  "kernelspec": {
   "display_name": "Python 3 (ipykernel)",
   "language": "python",
   "name": "python3"
  },
  "language_info": {
   "codemirror_mode": {
    "name": "ipython",
    "version": 3
   },
   "file_extension": ".py",
   "mimetype": "text/x-python",
   "name": "python",
   "nbconvert_exporter": "python",
   "pygments_lexer": "ipython3",
   "version": "3.9.12"
  }
 },
 "nbformat": 4,
 "nbformat_minor": 5
}
