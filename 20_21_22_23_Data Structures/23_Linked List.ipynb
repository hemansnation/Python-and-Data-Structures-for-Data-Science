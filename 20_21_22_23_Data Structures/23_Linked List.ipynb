{
 "cells": [
  {
   "cell_type": "markdown",
   "id": "117f0f56",
   "metadata": {},
   "source": [
    "# Linked List"
   ]
  },
  {
   "cell_type": "code",
   "execution_count": null,
   "id": "97aac220",
   "metadata": {},
   "outputs": [],
   "source": [
    "data | address\n",
    "4 bytes | 4 bytes               40 | None\n",
    "                                  3333\n",
    "\n",
    "start       10 | 1234    20 | 2222       30 | None\n",
    "              1111         1234            2222"
   ]
  },
  {
   "cell_type": "code",
   "execution_count": null,
   "id": "cbf4566e",
   "metadata": {},
   "outputs": [],
   "source": [
    "      30 | 1111\n",
    "        2222\n",
    "        head\n",
    "start       10 | 1234       20 | None\n",
    "              1111            1234\n",
    "              temp            "
   ]
  },
  {
   "cell_type": "code",
   "execution_count": null,
   "id": "ff90737d",
   "metadata": {},
   "outputs": [],
   "source": [
    "                                   40 | 2222\n",
    "                                     4321\n",
    "start       10 | 1234    20 | 4321        30 | None\n",
    "              1111         1234             2222\n",
    "    \n",
    "                           prev\n",
    "                                            next"
   ]
  },
  {
   "cell_type": "code",
   "execution_count": null,
   "id": "6918553d",
   "metadata": {},
   "outputs": [],
   "source": [
    "class LinkedList:\n",
    "    # strucutre of a single node\n",
    "    class Node:\n",
    "        def __init__(self, element, add):\n",
    "            self.element = element\n",
    "            self.add = add\n",
    "        \n",
    "    def __init__(self):\n",
    "        self.start = None\n",
    "        self.head = None\n",
    "        self.temp = None\n",
    "        self.size = 0\n",
    "        self.next = None\n",
    "        self.prev = None\n",
    "    \n",
    "    # length\n",
    "    def __len__(self):\n",
    "        return self.size\n",
    "    \n",
    "    \n",
    "    # insert\n",
    "    def insert(self, e):\n",
    "        if self.size == 0:\n",
    "            self.head = self.Node(e, None)\n",
    "            self.start = self.head\n",
    "            self.size += 1\n",
    "        else:\n",
    "            pos = input(\"Enter the position Number:\")\n",
    "                       \n",
    "            if pos > self.size:\n",
    "                # last position - stack operation\n",
    "                self.head = self.Node(e, None)\n",
    "                self.temp = self.start\n",
    "                while self.temp.add != None:\n",
    "                    self.temp = self.temp.add\n",
    "                \n",
    "                self.temp.add = self.head\n",
    "                self.size += 1\n",
    "            elif pos == 1:\n",
    "                # first position\n",
    "                self.head = self.Node(e, None)\n",
    "                self.temp = self.start\n",
    "                self.head.add = self.temp\n",
    "                self.start = self.head\n",
    "                self.size += 1\n",
    "            else:\n",
    "                # in between\n",
    "                self.head = self.Node(e, None)\n",
    "                \n",
    "                self.next = self.start\n",
    "                self.prev = self.start\n",
    "                i = 1\n",
    "                while i < pos:\n",
    "                    self.next = self.next.add\n",
    "                while self.prev.add != self.next:\n",
    "                    self.prev = self.prev.add\n",
    "                \n",
    "                self.prev.add = self.head\n",
    "                self.head.add = self.next\n",
    "                self.size += 1\n",
    "        \n",
    "        \n",
    "       \n",
    "    # delete\n",
    "    # display all the elements"
   ]
  }
 ],
 "metadata": {
  "kernelspec": {
   "display_name": "Python 3 (ipykernel)",
   "language": "python",
   "name": "python3"
  },
  "language_info": {
   "codemirror_mode": {
    "name": "ipython",
    "version": 3
   },
   "file_extension": ".py",
   "mimetype": "text/x-python",
   "name": "python",
   "nbconvert_exporter": "python",
   "pygments_lexer": "ipython3",
   "version": "3.9.12"
  }
 },
 "nbformat": 4,
 "nbformat_minor": 5
}
