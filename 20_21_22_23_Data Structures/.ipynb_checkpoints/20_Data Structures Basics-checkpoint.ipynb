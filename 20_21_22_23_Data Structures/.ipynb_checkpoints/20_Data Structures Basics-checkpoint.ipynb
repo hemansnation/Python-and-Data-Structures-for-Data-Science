{
 "cells": [
  {
   "cell_type": "markdown",
   "id": "f82ebe19",
   "metadata": {},
   "source": [
    "## Variables and Data Types"
   ]
  },
  {
   "cell_type": "code",
   "execution_count": null,
   "id": "bbcb3d27",
   "metadata": {},
   "outputs": [],
   "source": [
    "int a = 10;  # c language  -> 2 bytes -> 16 bits"
   ]
  },
  {
   "cell_type": "code",
   "execution_count": null,
   "id": "59d40dc7",
   "metadata": {},
   "outputs": [],
   "source": [
    "a = 10  # python | 10 is an object  4 bytes"
   ]
  },
  {
   "cell_type": "markdown",
   "id": "88c65e3a",
   "metadata": {},
   "source": [
    "## Analysis of Algorithms"
   ]
  },
  {
   "cell_type": "code",
   "execution_count": null,
   "id": "c51b11e6",
   "metadata": {},
   "outputs": [],
   "source": [
    "# time complexity\n",
    "\n",
    "# space complexity"
   ]
  },
  {
   "cell_type": "markdown",
   "id": "f4774a97",
   "metadata": {},
   "source": [
    "## Asymptotic Notations"
   ]
  },
  {
   "cell_type": "code",
   "execution_count": null,
   "id": "0985ed7e",
   "metadata": {},
   "outputs": [],
   "source": [
    "# input of array/list of numbers, n - size of the array\n",
    "\n",
    "O(n) -> O(5)"
   ]
  },
  {
   "cell_type": "code",
   "execution_count": null,
   "id": "e3da3336",
   "metadata": {},
   "outputs": [],
   "source": [
    "# loops\n",
    "\n",
    "for i in range(3):\n",
    "    # code\n",
    "    \n",
    "O(n)"
   ]
  },
  {
   "cell_type": "code",
   "execution_count": null,
   "id": "6c808f07",
   "metadata": {},
   "outputs": [],
   "source": [
    "for i in range(3):\n",
    "    for j in range(3):\n",
    "        # code\n",
    "    \n",
    "O(n^2)"
   ]
  },
  {
   "cell_type": "code",
   "execution_count": null,
   "id": "6b9b5280",
   "metadata": {},
   "outputs": [],
   "source": [
    "for i in range(3 * n):\n",
    "    # code\n",
    "\n",
    "for i in range(n + 5):\n",
    "    # code\n",
    "\n",
    "for i in range(n/2):\n",
    "    # code\n",
    "\n",
    "O(n)"
   ]
  },
  {
   "cell_type": "code",
   "execution_count": null,
   "id": "41faee63",
   "metadata": {},
   "outputs": [],
   "source": [
    "# phases\n",
    "\n",
    "for i in range(n):\n",
    "    # code\n",
    "\n",
    "for i in range(n):\n",
    "    for j in range(n):\n",
    "        # code\n",
    "\n",
    "for i in range(n):\n",
    "    # code\n",
    "    \n",
    "O(n) + O(n^2) + O(n)\n",
    "\n",
    "O(n^2)"
   ]
  },
  {
   "cell_type": "code",
   "execution_count": null,
   "id": "237e0d39",
   "metadata": {},
   "outputs": [],
   "source": [
    "for i in range(n):\n",
    "    for i in range(m):\n",
    "        # code\n",
    "    \n",
    "O(n^m)"
   ]
  },
  {
   "cell_type": "code",
   "execution_count": 1,
   "id": "26a0f836",
   "metadata": {},
   "outputs": [
    {
     "name": "stdout",
     "output_type": "stream",
     "text": [
      "Requirement already satisfied: psutil in c:\\users\\himan\\anaconda3\\lib\\site-packages (5.8.0)\n"
     ]
    }
   ],
   "source": [
    "!pip install psutil"
   ]
  },
  {
   "cell_type": "code",
   "execution_count": 2,
   "id": "99cee167",
   "metadata": {},
   "outputs": [
    {
     "name": "stdout",
     "output_type": "stream",
     "text": [
      "30.62109375\n"
     ]
    }
   ],
   "source": [
    "import os, psutil\n",
    "\n",
    "print(psutil.Process(os.getpid()).memory_info().rss / 1024 ** 2)"
   ]
  },
  {
   "cell_type": "code",
   "execution_count": 4,
   "id": "c80a8b72",
   "metadata": {},
   "outputs": [
    {
     "name": "stdout",
     "output_type": "stream",
     "text": [
      "0\n",
      "1\n",
      "2\n",
      "3\n",
      "4\n",
      "5\n",
      "6\n",
      "7\n",
      "8\n",
      "9\n",
      "--- 0.0010128021240234375 seconds ---\n"
     ]
    }
   ],
   "source": [
    "import time\n",
    "start_time = time.time()\n",
    "\n",
    "for i in range(10):\n",
    "    print(i)\n",
    "\n",
    "print(\"--- %s seconds ---\" % (time.time() - start_time))"
   ]
  },
  {
   "cell_type": "code",
   "execution_count": 5,
   "id": "4c0c8bf4",
   "metadata": {},
   "outputs": [
    {
     "name": "stdout",
     "output_type": "stream",
     "text": [
      "0\n",
      "1\n",
      "2\n",
      "3\n",
      "4\n",
      "5\n",
      "6\n",
      "7\n",
      "8\n",
      "9\n",
      "0\n",
      "1\n",
      "2\n",
      "3\n",
      "4\n",
      "5\n",
      "6\n",
      "7\n",
      "8\n",
      "9\n",
      "0\n",
      "1\n",
      "2\n",
      "3\n",
      "4\n",
      "5\n",
      "6\n",
      "7\n",
      "8\n",
      "9\n",
      "0\n",
      "1\n",
      "2\n",
      "3\n",
      "4\n",
      "5\n",
      "6\n",
      "7\n",
      "8\n",
      "9\n",
      "0\n",
      "1\n",
      "2\n",
      "3\n",
      "4\n",
      "5\n",
      "6\n",
      "7\n",
      "8\n",
      "9\n",
      "0\n",
      "1\n",
      "2\n",
      "3\n",
      "4\n",
      "5\n",
      "6\n",
      "7\n",
      "8\n",
      "9\n",
      "0\n",
      "1\n",
      "2\n",
      "3\n",
      "4\n",
      "5\n",
      "6\n",
      "7\n",
      "8\n",
      "9\n",
      "0\n",
      "1\n",
      "2\n",
      "3\n",
      "4\n",
      "5\n",
      "6\n",
      "7\n",
      "8\n",
      "9\n",
      "0\n",
      "1\n",
      "2\n",
      "3\n",
      "4\n",
      "5\n",
      "6\n",
      "7\n",
      "8\n",
      "9\n",
      "0\n",
      "1\n",
      "2\n",
      "3\n",
      "4\n",
      "5\n",
      "6\n",
      "7\n",
      "8\n",
      "9\n",
      "--- 0.006000518798828125 seconds ---\n"
     ]
    }
   ],
   "source": [
    "start_time = time.time()\n",
    "\n",
    "for i in range(10):\n",
    "    for i in range(10):\n",
    "        print(i)\n",
    "\n",
    "print(\"--- %s seconds ---\" % (time.time() - start_time))"
   ]
  },
  {
   "cell_type": "markdown",
   "id": "8aac6799",
   "metadata": {},
   "source": [
    "## Complexity Classes"
   ]
  },
  {
   "cell_type": "code",
   "execution_count": null,
   "id": "45d0371a",
   "metadata": {},
   "outputs": [],
   "source": [
    "O(1) < O(log n) < O(root(n)) < O(n) < O(n log n) < O(n^2) < O(n^3) < O(2^n) < O(n!) < O(n^k)"
   ]
  },
  {
   "cell_type": "code",
   "execution_count": null,
   "id": "c5af9f36",
   "metadata": {},
   "outputs": [],
   "source": [
    "theta(n)\n"
   ]
  },
  {
   "cell_type": "markdown",
   "id": "4348aad8",
   "metadata": {},
   "source": [
    "## NP-hard problems"
   ]
  },
  {
   "cell_type": "code",
   "execution_count": null,
   "id": "4cdd3eaf",
   "metadata": {},
   "outputs": [],
   "source": []
  }
 ],
 "metadata": {
  "kernelspec": {
   "display_name": "Python 3 (ipykernel)",
   "language": "python",
   "name": "python3"
  },
  "language_info": {
   "codemirror_mode": {
    "name": "ipython",
    "version": 3
   },
   "file_extension": ".py",
   "mimetype": "text/x-python",
   "name": "python",
   "nbconvert_exporter": "python",
   "pygments_lexer": "ipython3",
   "version": "3.9.12"
  }
 },
 "nbformat": 4,
 "nbformat_minor": 5
}
