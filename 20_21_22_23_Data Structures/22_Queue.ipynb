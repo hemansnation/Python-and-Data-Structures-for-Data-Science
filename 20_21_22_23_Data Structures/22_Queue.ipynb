{
 "cells": [
  {
   "cell_type": "markdown",
   "id": "73eeab56",
   "metadata": {},
   "source": [
    "# Queue\n",
    "\n",
    "FIFO(First In First Out)\n",
    "\n",
    "- enqueue - inserting an element\n",
    "- dequeue - deleting an element\n",
    "- display"
   ]
  },
  {
   "cell_type": "code",
   "execution_count": null,
   "id": "aecb60b3",
   "metadata": {},
   "outputs": [],
   "source": [
    "    None    40   50   60     70    100   110\n",
    "     0      1   2     3     4      5      6\n",
    "          rare                          front"
   ]
  },
  {
   "cell_type": "code",
   "execution_count": 1,
   "id": "3a02c67f",
   "metadata": {},
   "outputs": [
    {
     "data": {
      "text/plain": [
       "['Hi', 'Hi', 'Hi']"
      ]
     },
     "execution_count": 1,
     "metadata": {},
     "output_type": "execute_result"
    }
   ],
   "source": [
    "[\"Hi\"] * 3"
   ]
  },
  {
   "cell_type": "code",
   "execution_count": 22,
   "id": "3e8ed283",
   "metadata": {},
   "outputs": [],
   "source": [
    "class Queue:\n",
    "    \n",
    "    DEFAULT_CAPACITY = 10\n",
    "    \n",
    "    def __init__(self):\n",
    "        self.data = [None] * Queue.DEFAULT_CAPACITY  # [None, None, None....]\n",
    "        self.size = 0\n",
    "        self.front = 0\n",
    "        self.rare = 0\n",
    "    \n",
    "    # length\n",
    "    def __len__(self):\n",
    "        return self.size\n",
    "    \n",
    "    # is empty\n",
    "    def is_empty(self):\n",
    "        return self.size == 0\n",
    "    \n",
    "    # top most element/ first element\n",
    "    def first(self):\n",
    "        if self.is_empty():\n",
    "            print(\"Queue is Empty\")\n",
    "        else:\n",
    "            return self.data[self.front]\n",
    "    \n",
    "    # dequeue - delete an element\n",
    "    def dequeue(self):\n",
    "        if self.is_empty():\n",
    "            print(\"Queue is Underflow\")\n",
    "        else:\n",
    "            answer = self.data[self.rare + 1]\n",
    "            self.data[self.rare] = None\n",
    "            self.rare += 1\n",
    "            self.size -= 1\n",
    "            return answer\n",
    "    \n",
    "    \n",
    "    # enqueue - insert an element\n",
    "    def enqueue(self, element):\n",
    "        if self.size == Queue.DEFAULT_CAPACITY:\n",
    "            print(\"Queue is Overflow\")\n",
    "        else:\n",
    "            available = self.front + 1\n",
    "            self.data[available] = element\n",
    "            self.front += 1\n",
    "            self.size += 1\n",
    "    \n",
    "    # display all the elements\n",
    "    def display(self):\n",
    "        if self.is_empty():\n",
    "            print(\"Queue is Empty\")\n",
    "        else:\n",
    "            i = self.rare\n",
    "            j = self.front\n",
    "            while i <= j:\n",
    "                print(self.data[i], end=\"  \")\n",
    "                i += 1\n",
    "            # return self.data"
   ]
  },
  {
   "cell_type": "code",
   "execution_count": 23,
   "id": "071da9f6",
   "metadata": {},
   "outputs": [],
   "source": [
    "q = Queue()"
   ]
  },
  {
   "cell_type": "code",
   "execution_count": 24,
   "id": "1d9a5632",
   "metadata": {},
   "outputs": [
    {
     "data": {
      "text/plain": [
       "0"
      ]
     },
     "execution_count": 24,
     "metadata": {},
     "output_type": "execute_result"
    }
   ],
   "source": [
    "q.__len__()"
   ]
  },
  {
   "cell_type": "code",
   "execution_count": 25,
   "id": "229b0c14",
   "metadata": {},
   "outputs": [
    {
     "data": {
      "text/plain": [
       "True"
      ]
     },
     "execution_count": 25,
     "metadata": {},
     "output_type": "execute_result"
    }
   ],
   "source": [
    "q.is_empty()"
   ]
  },
  {
   "cell_type": "code",
   "execution_count": 26,
   "id": "f710ed62",
   "metadata": {},
   "outputs": [
    {
     "name": "stdout",
     "output_type": "stream",
     "text": [
      "Queue is Empty\n"
     ]
    }
   ],
   "source": [
    "q.first()"
   ]
  },
  {
   "cell_type": "code",
   "execution_count": 27,
   "id": "a3c7e9eb",
   "metadata": {},
   "outputs": [],
   "source": [
    "q.enqueue(10)\n",
    "q.enqueue(20)\n",
    "q.enqueue(30)\n",
    "q.enqueue(40)\n",
    "q.enqueue(50)\n",
    "q.enqueue(60)"
   ]
  },
  {
   "cell_type": "code",
   "execution_count": 28,
   "id": "dbeaf9b5",
   "metadata": {},
   "outputs": [
    {
     "data": {
      "text/plain": [
       "60"
      ]
     },
     "execution_count": 28,
     "metadata": {},
     "output_type": "execute_result"
    }
   ],
   "source": [
    "q.first()"
   ]
  },
  {
   "cell_type": "code",
   "execution_count": 29,
   "id": "4571a436",
   "metadata": {},
   "outputs": [
    {
     "data": {
      "text/plain": [
       "6"
      ]
     },
     "execution_count": 29,
     "metadata": {},
     "output_type": "execute_result"
    }
   ],
   "source": [
    "q.__len__()"
   ]
  },
  {
   "cell_type": "code",
   "execution_count": 30,
   "id": "7ee4a5ba",
   "metadata": {},
   "outputs": [
    {
     "name": "stdout",
     "output_type": "stream",
     "text": [
      "10\n"
     ]
    }
   ],
   "source": [
    "print(q.dequeue())"
   ]
  },
  {
   "cell_type": "code",
   "execution_count": 31,
   "id": "d6069d65",
   "metadata": {},
   "outputs": [
    {
     "name": "stdout",
     "output_type": "stream",
     "text": [
      "20\n"
     ]
    }
   ],
   "source": [
    "print(q.dequeue())"
   ]
  },
  {
   "cell_type": "code",
   "execution_count": 32,
   "id": "119ecbfe",
   "metadata": {},
   "outputs": [
    {
     "name": "stdout",
     "output_type": "stream",
     "text": [
      "20  30  40  50  60  "
     ]
    }
   ],
   "source": [
    "q.display()"
   ]
  },
  {
   "cell_type": "code",
   "execution_count": null,
   "id": "ac7ecad5",
   "metadata": {},
   "outputs": [],
   "source": []
  }
 ],
 "metadata": {
  "kernelspec": {
   "display_name": "Python 3 (ipykernel)",
   "language": "python",
   "name": "python3"
  },
  "language_info": {
   "codemirror_mode": {
    "name": "ipython",
    "version": 3
   },
   "file_extension": ".py",
   "mimetype": "text/x-python",
   "name": "python",
   "nbconvert_exporter": "python",
   "pygments_lexer": "ipython3",
   "version": "3.9.12"
  }
 },
 "nbformat": 4,
 "nbformat_minor": 5
}
