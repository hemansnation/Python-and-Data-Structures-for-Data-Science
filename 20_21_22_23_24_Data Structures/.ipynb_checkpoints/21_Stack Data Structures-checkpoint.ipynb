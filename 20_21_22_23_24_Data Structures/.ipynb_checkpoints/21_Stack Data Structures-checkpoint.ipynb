{
 "cells": [
  {
   "cell_type": "code",
   "execution_count": null,
   "id": "962cd906",
   "metadata": {},
   "outputs": [],
   "source": [
    "a = x + y + 2z"
   ]
  },
  {
   "cell_type": "markdown",
   "id": "dd9bb479",
   "metadata": {},
   "source": [
    "# Stack using Python List\n",
    "\n",
    "Follow LIFO (Last In First Out) system\n",
    "\n",
    "- insert\n",
    "- delete\n",
    "- display"
   ]
  },
  {
   "cell_type": "code",
   "execution_count": 1,
   "id": "4329f8aa",
   "metadata": {},
   "outputs": [
    {
     "name": "stdout",
     "output_type": "stream",
     "text": [
      "<class 'list'>\n"
     ]
    }
   ],
   "source": [
    "stack = []\n",
    "\n",
    "print(type(stack))"
   ]
  },
  {
   "cell_type": "code",
   "execution_count": 3,
   "id": "8f5b9ffc",
   "metadata": {},
   "outputs": [
    {
     "name": "stdout",
     "output_type": "stream",
     "text": [
      "Display Stack: [10, 20, 30, 40]\n",
      "Top of the stack: 40\n"
     ]
    }
   ],
   "source": [
    "stack = []\n",
    "\n",
    "stack.append(10)\n",
    "stack.append(20)\n",
    "stack.append(30)\n",
    "stack.append(40)\n",
    "\n",
    "print(\"Display Stack:\", stack)\n",
    "\n",
    "top = stack[-1]\n",
    "\n",
    "print(\"Top of the stack:\", top)"
   ]
  },
  {
   "cell_type": "code",
   "execution_count": 4,
   "id": "30f96ded",
   "metadata": {},
   "outputs": [
    {
     "name": "stdout",
     "output_type": "stream",
     "text": [
      "40\n"
     ]
    }
   ],
   "source": [
    "print(stack.pop())"
   ]
  },
  {
   "cell_type": "code",
   "execution_count": 5,
   "id": "77881f05",
   "metadata": {},
   "outputs": [
    {
     "name": "stdout",
     "output_type": "stream",
     "text": [
      "Top of the stack: 30\n"
     ]
    }
   ],
   "source": [
    "top = stack[-1]\n",
    "\n",
    "print(\"Top of the stack:\", top)"
   ]
  },
  {
   "cell_type": "code",
   "execution_count": 6,
   "id": "906a83ee",
   "metadata": {},
   "outputs": [
    {
     "name": "stdout",
     "output_type": "stream",
     "text": [
      "Display Stack: [10, 20, 30]\n"
     ]
    }
   ],
   "source": [
    "print(\"Display Stack:\", stack)\n"
   ]
  },
  {
   "cell_type": "code",
   "execution_count": 10,
   "id": "445a6be0",
   "metadata": {},
   "outputs": [
    {
     "name": "stdout",
     "output_type": "stream",
     "text": [
      "5\n"
     ]
    }
   ],
   "source": [
    "data = [1,2,3,4,5]\n",
    "c = 0\n",
    "while data[c:]:\n",
    "    c += 1\n",
    "print(c)"
   ]
  },
  {
   "cell_type": "markdown",
   "id": "5fe0e37f",
   "metadata": {},
   "source": [
    "# Stack using classes from Scratch"
   ]
  },
  {
   "cell_type": "code",
   "execution_count": 17,
   "id": "43762c83",
   "metadata": {},
   "outputs": [],
   "source": [
    "class Stack:\n",
    "    MAXIMUM_CAPACITY = 10\n",
    "    \n",
    "    # init\n",
    "    def __init__(self):\n",
    "        self.data = []\n",
    "    \n",
    "    # length\n",
    "    def __len__(self):\n",
    "        c = 0\n",
    "        while self.data[c:]:\n",
    "            c += 1\n",
    "        \n",
    "        return c\n",
    "    \n",
    "    # is empty\n",
    "    def is_empty(self):\n",
    "        return self.__len__() == 0\n",
    "    \n",
    "    # top\n",
    "    def top(self):\n",
    "        if self.is_empty():\n",
    "            print(\"Stack Underflow\")\n",
    "        else:\n",
    "            return self.data[-1]\n",
    "    \n",
    "    # push - insert\n",
    "    def push(self, value):\n",
    "        if self.__len__() == self.MAXIMUM_CAPACITY:\n",
    "            print(\"Stack Overflow\")\n",
    "        else:\n",
    "            self.data.append(value)\n",
    "        \n",
    "        \n",
    "    # pop - delete\n",
    "    def pop(self):\n",
    "        if self.is_empty():\n",
    "            print(\"Stack is Empty\")\n",
    "        else:\n",
    "            return self.data.pop()\n",
    "        \n",
    "    # display\n",
    "    def display(self):\n",
    "        if self.is_empty():\n",
    "            print(\"Stack is Empty\")\n",
    "        else:\n",
    "            return self.data\n",
    "    \n",
    "    "
   ]
  },
  {
   "cell_type": "code",
   "execution_count": 18,
   "id": "251bc1ca",
   "metadata": {},
   "outputs": [],
   "source": [
    "s = Stack()"
   ]
  },
  {
   "cell_type": "code",
   "execution_count": 19,
   "id": "e541bc97",
   "metadata": {},
   "outputs": [
    {
     "data": {
      "text/plain": [
       "True"
      ]
     },
     "execution_count": 19,
     "metadata": {},
     "output_type": "execute_result"
    }
   ],
   "source": [
    "s.is_empty()"
   ]
  },
  {
   "cell_type": "code",
   "execution_count": 20,
   "id": "1482d784",
   "metadata": {},
   "outputs": [
    {
     "name": "stdout",
     "output_type": "stream",
     "text": [
      "[]\n"
     ]
    }
   ],
   "source": [
    "print(s.data)"
   ]
  },
  {
   "cell_type": "code",
   "execution_count": 21,
   "id": "766c9bae",
   "metadata": {},
   "outputs": [
    {
     "name": "stdout",
     "output_type": "stream",
     "text": [
      "Stack is Empty\n"
     ]
    }
   ],
   "source": [
    "s.display()"
   ]
  },
  {
   "cell_type": "code",
   "execution_count": 22,
   "id": "9beb0999",
   "metadata": {},
   "outputs": [],
   "source": [
    "s.push(11)\n",
    "s.push(12)\n",
    "s.push(13)\n",
    "s.push(14)"
   ]
  },
  {
   "cell_type": "code",
   "execution_count": 23,
   "id": "4dac7116",
   "metadata": {},
   "outputs": [
    {
     "data": {
      "text/plain": [
       "[11, 12, 13, 14]"
      ]
     },
     "execution_count": 23,
     "metadata": {},
     "output_type": "execute_result"
    }
   ],
   "source": [
    "s.display()"
   ]
  },
  {
   "cell_type": "code",
   "execution_count": 24,
   "id": "97e25b16",
   "metadata": {},
   "outputs": [
    {
     "data": {
      "text/plain": [
       "False"
      ]
     },
     "execution_count": 24,
     "metadata": {},
     "output_type": "execute_result"
    }
   ],
   "source": [
    "s.is_empty()"
   ]
  },
  {
   "cell_type": "code",
   "execution_count": 25,
   "id": "911a2c8a",
   "metadata": {},
   "outputs": [
    {
     "data": {
      "text/plain": [
       "4"
      ]
     },
     "execution_count": 25,
     "metadata": {},
     "output_type": "execute_result"
    }
   ],
   "source": [
    "s.__len__()"
   ]
  },
  {
   "cell_type": "code",
   "execution_count": 26,
   "id": "3929104c",
   "metadata": {},
   "outputs": [
    {
     "data": {
      "text/plain": [
       "14"
      ]
     },
     "execution_count": 26,
     "metadata": {},
     "output_type": "execute_result"
    }
   ],
   "source": [
    "s.top()"
   ]
  },
  {
   "cell_type": "code",
   "execution_count": 27,
   "id": "00124679",
   "metadata": {},
   "outputs": [
    {
     "data": {
      "text/plain": [
       "14"
      ]
     },
     "execution_count": 27,
     "metadata": {},
     "output_type": "execute_result"
    }
   ],
   "source": [
    "s.pop()"
   ]
  },
  {
   "cell_type": "code",
   "execution_count": 28,
   "id": "950a49af",
   "metadata": {},
   "outputs": [
    {
     "data": {
      "text/plain": [
       "[11, 12, 13]"
      ]
     },
     "execution_count": 28,
     "metadata": {},
     "output_type": "execute_result"
    }
   ],
   "source": [
    "s.display()"
   ]
  },
  {
   "cell_type": "code",
   "execution_count": 29,
   "id": "6a69d490",
   "metadata": {},
   "outputs": [
    {
     "data": {
      "text/plain": [
       "13"
      ]
     },
     "execution_count": 29,
     "metadata": {},
     "output_type": "execute_result"
    }
   ],
   "source": [
    "s.pop()"
   ]
  },
  {
   "cell_type": "code",
   "execution_count": 30,
   "id": "5aea258c",
   "metadata": {},
   "outputs": [
    {
     "data": {
      "text/plain": [
       "12"
      ]
     },
     "execution_count": 30,
     "metadata": {},
     "output_type": "execute_result"
    }
   ],
   "source": [
    "s.pop()"
   ]
  },
  {
   "cell_type": "code",
   "execution_count": 31,
   "id": "0b41871a",
   "metadata": {},
   "outputs": [
    {
     "data": {
      "text/plain": [
       "11"
      ]
     },
     "execution_count": 31,
     "metadata": {},
     "output_type": "execute_result"
    }
   ],
   "source": [
    "s.pop()"
   ]
  },
  {
   "cell_type": "code",
   "execution_count": 32,
   "id": "205c31e7",
   "metadata": {},
   "outputs": [
    {
     "name": "stdout",
     "output_type": "stream",
     "text": [
      "Stack is Empty\n"
     ]
    }
   ],
   "source": [
    "s.pop()"
   ]
  },
  {
   "cell_type": "code",
   "execution_count": 33,
   "id": "970e1e44",
   "metadata": {},
   "outputs": [
    {
     "name": "stdout",
     "output_type": "stream",
     "text": [
      "Stack is Empty\n"
     ]
    }
   ],
   "source": [
    "s.display()"
   ]
  },
  {
   "cell_type": "code",
   "execution_count": 34,
   "id": "327d793d",
   "metadata": {},
   "outputs": [],
   "source": [
    "s.push(11)\n",
    "s.push(12)\n",
    "s.push(13)\n",
    "s.push(14)\n",
    "s.push(15)\n",
    "s.push(16)\n",
    "s.push(17)\n",
    "s.push(18)\n",
    "s.push(19)\n",
    "s.push(20)"
   ]
  },
  {
   "cell_type": "code",
   "execution_count": 35,
   "id": "ea7dabd2",
   "metadata": {},
   "outputs": [
    {
     "data": {
      "text/plain": [
       "[11, 12, 13, 14, 15, 16, 17, 18, 19, 20]"
      ]
     },
     "execution_count": 35,
     "metadata": {},
     "output_type": "execute_result"
    }
   ],
   "source": [
    "s.display()"
   ]
  },
  {
   "cell_type": "code",
   "execution_count": 36,
   "id": "6135acfa",
   "metadata": {},
   "outputs": [
    {
     "name": "stdout",
     "output_type": "stream",
     "text": [
      "Stack Overflow\n"
     ]
    }
   ],
   "source": [
    "s.push(21)"
   ]
  },
  {
   "cell_type": "code",
   "execution_count": 37,
   "id": "a246338b",
   "metadata": {},
   "outputs": [
    {
     "data": {
      "text/plain": [
       "<__main__.Stack at 0x1c4f5701d60>"
      ]
     },
     "execution_count": 37,
     "metadata": {},
     "output_type": "execute_result"
    }
   ],
   "source": [
    "s"
   ]
  },
  {
   "cell_type": "code",
   "execution_count": null,
   "id": "805ddfd3",
   "metadata": {},
   "outputs": [],
   "source": [
    "create a package for data structures algorithms in python\n",
    "\n",
    "- stack.py\n",
    "- queue.py\n",
    "\n",
    "\n",
    "main.py - call here"
   ]
  }
 ],
 "metadata": {
  "kernelspec": {
   "display_name": "Python 3 (ipykernel)",
   "language": "python",
   "name": "python3"
  },
  "language_info": {
   "codemirror_mode": {
    "name": "ipython",
    "version": 3
   },
   "file_extension": ".py",
   "mimetype": "text/x-python",
   "name": "python",
   "nbconvert_exporter": "python",
   "pygments_lexer": "ipython3",
   "version": "3.9.12"
  }
 },
 "nbformat": 4,
 "nbformat_minor": 5
}
