{
 "cells": [
  {
   "cell_type": "markdown",
   "id": "117f0f56",
   "metadata": {},
   "source": [
    "# Linked List"
   ]
  },
  {
   "cell_type": "code",
   "execution_count": null,
   "id": "97aac220",
   "metadata": {},
   "outputs": [],
   "source": [
    "data | address\n",
    "4 bytes | 4 bytes               40 | None\n",
    "                                  3333\n",
    "\n",
    "start       10 | 1234    20 | 2222       30 | None\n",
    "              1111         1234            2222"
   ]
  },
  {
   "cell_type": "code",
   "execution_count": null,
   "id": "cbf4566e",
   "metadata": {},
   "outputs": [],
   "source": [
    "      30 | 1111\n",
    "        2222\n",
    "        head\n",
    "start       10 | 1234       20 | None\n",
    "              1111            1234\n",
    "              temp            "
   ]
  },
  {
   "cell_type": "code",
   "execution_count": null,
   "id": "ff90737d",
   "metadata": {},
   "outputs": [],
   "source": [
    "                                   40 | 2222\n",
    "                                     4321\n",
    "start       10 | 1234    20 | 4321        30 | None\n",
    "              1111         1234             2222\n",
    "    \n",
    "                           prev\n",
    "                                            next"
   ]
  },
  {
   "cell_type": "code",
   "execution_count": null,
   "id": "bd7d8a71",
   "metadata": {},
   "outputs": [],
   "source": [
    "start       10 | 1234    20 | 2222        30 | None\n",
    "              1111         1234             2222\n",
    "    \n",
    "                           prev             temp"
   ]
  },
  {
   "cell_type": "code",
   "execution_count": null,
   "id": "abfadf36",
   "metadata": {},
   "outputs": [],
   "source": [
    "start       10 | 1234    20 | 2222        30 | None\n",
    "              1111         1234             2222\n",
    "    \n",
    "              prev                          \n",
    "                                            next"
   ]
  },
  {
   "cell_type": "code",
   "execution_count": null,
   "id": "3d435703",
   "metadata": {},
   "outputs": [],
   "source": [
    "start       10 | 1234    20 | 2222        30 | None\n",
    "              1111         1234             2222\n",
    "    \n",
    "                                                          temp"
   ]
  },
  {
   "cell_type": "code",
   "execution_count": 36,
   "id": "6918553d",
   "metadata": {},
   "outputs": [],
   "source": [
    "class LinkedList:\n",
    "    # strucutre of a single node\n",
    "    class Node:\n",
    "        def __init__(self, element, add):\n",
    "            self.element = element\n",
    "            self.add = add\n",
    "        \n",
    "    def __init__(self):\n",
    "        self.start = None\n",
    "        self.head = None\n",
    "        self.temp = None\n",
    "        self.size = 0\n",
    "        self.next = None\n",
    "        self.prev = None\n",
    "    \n",
    "    # length\n",
    "    def __len__(self):\n",
    "        return self.size\n",
    "    \n",
    "    \n",
    "    # insert\n",
    "    def insert(self, e):\n",
    "        if self.size == 0:\n",
    "            self.head = self.Node(e, None)\n",
    "            self.start = self.head\n",
    "            self.size += 1\n",
    "        else:\n",
    "            pos = int(input(\"Enter the position Number:\"))\n",
    "                       \n",
    "            if pos > self.size:\n",
    "                # last position - stack operation\n",
    "                self.head = self.Node(e, None)\n",
    "                self.temp = self.start\n",
    "                while self.temp.add != None:\n",
    "                    self.temp = self.temp.add\n",
    "                \n",
    "                self.temp.add = self.head\n",
    "                self.size += 1\n",
    "            elif pos == 1:\n",
    "                # first position\n",
    "                self.head = self.Node(e, None)\n",
    "                self.temp = self.start\n",
    "                self.head.add = self.temp\n",
    "                self.start = self.head\n",
    "                self.size += 1\n",
    "            else:\n",
    "                # in between\n",
    "                self.head = self.Node(e, None)\n",
    "                \n",
    "                self.next = self.start\n",
    "                self.prev = self.start\n",
    "                i = 1\n",
    "                while i < pos:\n",
    "                    self.next = self.next.add\n",
    "                    i += 1\n",
    "                while self.prev.add != self.next:\n",
    "                    self.prev = self.prev.add\n",
    "                \n",
    "                self.prev.add = self.head\n",
    "                self.head.add = self.next\n",
    "                self.size += 1\n",
    "        \n",
    "        \n",
    "    # delete\n",
    "    def delete(self, pos):\n",
    "        if self.size == 0:\n",
    "            print(\"No Nodes in the Linked List\")\n",
    "        else:\n",
    "            if pos == 1:\n",
    "                self.temp = self.start\n",
    "                self.temp = self.temp.add\n",
    "                self.start = self.temp\n",
    "                self.size -= 1\n",
    "            elif pos >= self.size:\n",
    "                self.temp = self.start\n",
    "                while self.temp.add != None:\n",
    "                    self.temp = self.temp.add\n",
    "                \n",
    "                self.prev = self.start\n",
    "                while self.prev.add != self.temp:\n",
    "                    self.prev = self.prev.add\n",
    "                \n",
    "                self.prev.add = None\n",
    "                self.size -= 1\n",
    "            else:\n",
    "                self.prev = self.start\n",
    "                self.next = self.start\n",
    "                i = 1\n",
    "                while i < pos + 1:\n",
    "                    self.next = self.next.add\n",
    "                    i += 1\n",
    "                \n",
    "                i = 1\n",
    "                while i < pos - 1:\n",
    "                    self.prev = self.prev.add\n",
    "                    i += 1\n",
    "                \n",
    "                self.prev.add = self.next\n",
    "                self.size -= 1\n",
    "            \n",
    "    # display all the elements\n",
    "    def display(self):\n",
    "        if self.size == 0:\n",
    "            print(\"Linked List is Empty\")\n",
    "        else:\n",
    "            self.temp = self.start\n",
    "            while self.temp != None:\n",
    "                print(self.temp.element, end=\"  \")\n",
    "                self.temp = self.temp.add"
   ]
  },
  {
   "cell_type": "code",
   "execution_count": 37,
   "id": "b6bac892",
   "metadata": {},
   "outputs": [],
   "source": [
    "l = LinkedList()"
   ]
  },
  {
   "cell_type": "code",
   "execution_count": 38,
   "id": "5b9bcdd4",
   "metadata": {},
   "outputs": [],
   "source": [
    "l.insert(10)"
   ]
  },
  {
   "cell_type": "code",
   "execution_count": 39,
   "id": "ab816f96",
   "metadata": {},
   "outputs": [
    {
     "name": "stdout",
     "output_type": "stream",
     "text": [
      "Enter the position Number:2\n"
     ]
    }
   ],
   "source": [
    "l.insert(20)"
   ]
  },
  {
   "cell_type": "code",
   "execution_count": 40,
   "id": "6516f521",
   "metadata": {},
   "outputs": [
    {
     "name": "stdout",
     "output_type": "stream",
     "text": [
      "Enter the position Number:3\n"
     ]
    }
   ],
   "source": [
    "l.insert(30)"
   ]
  },
  {
   "cell_type": "code",
   "execution_count": 41,
   "id": "1396ee3a",
   "metadata": {},
   "outputs": [
    {
     "name": "stdout",
     "output_type": "stream",
     "text": [
      "Enter the position Number:4\n"
     ]
    }
   ],
   "source": [
    "l.insert(40)"
   ]
  },
  {
   "cell_type": "code",
   "execution_count": 42,
   "id": "1202cb22",
   "metadata": {},
   "outputs": [
    {
     "name": "stdout",
     "output_type": "stream",
     "text": [
      "10  20  30  40  "
     ]
    }
   ],
   "source": [
    "l.display()"
   ]
  },
  {
   "cell_type": "code",
   "execution_count": 43,
   "id": "2f4497d5",
   "metadata": {},
   "outputs": [],
   "source": [
    "l.delete(1)"
   ]
  },
  {
   "cell_type": "code",
   "execution_count": 44,
   "id": "f9b3b93f",
   "metadata": {},
   "outputs": [
    {
     "name": "stdout",
     "output_type": "stream",
     "text": [
      "20  30  40  "
     ]
    }
   ],
   "source": [
    "l.display()"
   ]
  },
  {
   "cell_type": "code",
   "execution_count": 45,
   "id": "bff1d114",
   "metadata": {},
   "outputs": [],
   "source": [
    "l.delete(2)"
   ]
  },
  {
   "cell_type": "code",
   "execution_count": 46,
   "id": "c257766c",
   "metadata": {},
   "outputs": [
    {
     "name": "stdout",
     "output_type": "stream",
     "text": [
      "20  40  "
     ]
    }
   ],
   "source": [
    "l.display()"
   ]
  },
  {
   "cell_type": "code",
   "execution_count": 50,
   "id": "ff6f6840",
   "metadata": {},
   "outputs": [],
   "source": [
    "class Stack:\n",
    "    MAX_CAPACITY = 5   # A CONSTANT VARIABLE\n",
    "\n",
    "    # INIT\n",
    "    def __init__(self):\n",
    "        self.data = []\n",
    "    \n",
    "    # length\n",
    "    def __len__(self):\n",
    "        c= 0\n",
    "        while self.data[c:]:\n",
    "            c +=1\n",
    "            return c\n",
    "\n",
    "    # is_empty\n",
    "    def is_empty(self):\n",
    "        return self.__len__() == 0\n",
    "    \n",
    "    # top\n",
    "    def top(self):\n",
    "        if self.is_empty():\n",
    "            print(\"stack underflow\")\n",
    "        else:\n",
    "            return self.data[-1]\n",
    "    # PUSH \n",
    "    def push(self,value):\n",
    "        if self.__len__() == self.MAX_CAPACITY:\n",
    "            print(\"Stack Overflow\")\n",
    "        else:\n",
    "            self.data.append(value)\n",
    "\n",
    "    # POP \n",
    "    def pop(self):\n",
    "        if self.is_empty():\n",
    "            print(\"stack is empty\")\n",
    "        else:\n",
    "            return self.data.pop()\n",
    "    # DISPLAY\n",
    "    def display(self):\n",
    "        if self.is_empty():\n",
    "            print(\"stack is empty\")\n",
    "        else:\n",
    "            return self.data\n",
    "        \n",
    "s = Stack()"
   ]
  },
  {
   "cell_type": "code",
   "execution_count": 51,
   "id": "d378cdd7",
   "metadata": {},
   "outputs": [],
   "source": [
    "s.push(10)"
   ]
  },
  {
   "cell_type": "code",
   "execution_count": 52,
   "id": "39ecd90c",
   "metadata": {},
   "outputs": [
    {
     "data": {
      "text/plain": [
       "[10]"
      ]
     },
     "execution_count": 52,
     "metadata": {},
     "output_type": "execute_result"
    }
   ],
   "source": [
    "s.display()"
   ]
  },
  {
   "cell_type": "code",
   "execution_count": 53,
   "id": "bb05aed5",
   "metadata": {},
   "outputs": [],
   "source": [
    "class Stack:\n",
    "    MAXIMUM_CAPACITY = 10\n",
    "    \n",
    "    # init\n",
    "    def __init__(self):\n",
    "        self.data = []\n",
    "    \n",
    "    # length\n",
    "    def __len__(self):\n",
    "        c = 0\n",
    "        while self.data[c:]:\n",
    "            c += 1\n",
    "        \n",
    "        return c\n",
    "    \n",
    "    # is empty\n",
    "    def is_empty(self):\n",
    "        return self.__len__() == 0\n",
    "    \n",
    "    # top\n",
    "    def top(self):\n",
    "        if self.is_empty():\n",
    "            print(\"Stack Underflow\")\n",
    "        else:\n",
    "            return self.data[-1]\n",
    "    \n",
    "    # push - insert\n",
    "    def push(self, value):\n",
    "        if self.__len__() == self.MAXIMUM_CAPACITY:\n",
    "            print(\"Stack Overflow\")\n",
    "        else:\n",
    "            self.data.append(value)\n",
    "        \n",
    "        \n",
    "    # pop - delete\n",
    "    def pop(self):\n",
    "        if self.is_empty():\n",
    "            print(\"Stack is Empty\")\n",
    "        else:\n",
    "            return self.data.pop()\n",
    "        \n",
    "    # display\n",
    "    def display(self):\n",
    "        if self.is_empty():\n",
    "            print(\"Stack is Empty\")\n",
    "        else:\n",
    "            return self.data"
   ]
  },
  {
   "cell_type": "code",
   "execution_count": 54,
   "id": "0a33f88b",
   "metadata": {},
   "outputs": [],
   "source": [
    "s = Stack()"
   ]
  },
  {
   "cell_type": "code",
   "execution_count": 55,
   "id": "575dfc0a",
   "metadata": {},
   "outputs": [],
   "source": [
    "s.push(10)"
   ]
  },
  {
   "cell_type": "code",
   "execution_count": 56,
   "id": "908448db",
   "metadata": {},
   "outputs": [],
   "source": [
    "s.push(20)"
   ]
  },
  {
   "cell_type": "code",
   "execution_count": 57,
   "id": "eae14de4",
   "metadata": {},
   "outputs": [],
   "source": [
    "s.push(30)"
   ]
  },
  {
   "cell_type": "code",
   "execution_count": 58,
   "id": "f5883a71",
   "metadata": {},
   "outputs": [
    {
     "data": {
      "text/plain": [
       "[10, 20, 30]"
      ]
     },
     "execution_count": 58,
     "metadata": {},
     "output_type": "execute_result"
    }
   ],
   "source": [
    "s.display()"
   ]
  },
  {
   "cell_type": "code",
   "execution_count": null,
   "id": "dfe288cc",
   "metadata": {},
   "outputs": [],
   "source": []
  }
 ],
 "metadata": {
  "kernelspec": {
   "display_name": "Python 3 (ipykernel)",
   "language": "python",
   "name": "python3"
  },
  "language_info": {
   "codemirror_mode": {
    "name": "ipython",
    "version": 3
   },
   "file_extension": ".py",
   "mimetype": "text/x-python",
   "name": "python",
   "nbconvert_exporter": "python",
   "pygments_lexer": "ipython3",
   "version": "3.9.12"
  }
 },
 "nbformat": 4,
 "nbformat_minor": 5
}
