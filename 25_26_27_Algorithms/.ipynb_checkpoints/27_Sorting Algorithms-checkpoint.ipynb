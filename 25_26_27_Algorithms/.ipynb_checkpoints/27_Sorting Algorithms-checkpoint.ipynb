{
 "cells": [
  {
   "cell_type": "markdown",
   "id": "ef79ea78",
   "metadata": {},
   "source": [
    "# Selection Sort"
   ]
  },
  {
   "cell_type": "code",
   "execution_count": null,
   "id": "2ac82a20",
   "metadata": {},
   "outputs": [],
   "source": [
    "[4,3,5,6,2]\n",
    "[3,4,5,6,2]\n",
    "[2,4,5,6,3]"
   ]
  },
  {
   "cell_type": "code",
   "execution_count": 1,
   "id": "d8b66137",
   "metadata": {},
   "outputs": [
    {
     "name": "stdout",
     "output_type": "stream",
     "text": [
      "[10, 20, 30, 40, 50]\n"
     ]
    }
   ],
   "source": [
    "n = [10,50,40,20,30]\n",
    "#       i           j\n",
    "#       m\n",
    "for i in range(len(n)-1):\n",
    "    m = n[i]                               # m = 40, 10\n",
    "    loc = i                                # loc = 0, 2\n",
    "    for j in range(i+1, len(n)):           # i = 0\n",
    "        if m > n[j]:                       # j = 1, 2, 3, 4\n",
    "            m = n[j]\n",
    "            loc = j\n",
    "    if i!=loc:\n",
    "        temp = n[i]\n",
    "        n[i] = n[loc]\n",
    "        n[loc] = temp\n",
    "    \n",
    "print(n)"
   ]
  },
  {
   "cell_type": "code",
   "execution_count": 2,
   "id": "1282c3c5",
   "metadata": {},
   "outputs": [
    {
     "name": "stdout",
     "output_type": "stream",
     "text": [
      "20\n",
      "10\n"
     ]
    }
   ],
   "source": [
    "a = 10\n",
    "b = 20\n",
    "\n",
    "c = a\n",
    "a = b\n",
    "b = c\n",
    "\n",
    "print(a)\n",
    "print(b)"
   ]
  },
  {
   "cell_type": "markdown",
   "id": "b5f379bd",
   "metadata": {},
   "source": [
    "# Merge Sort"
   ]
  },
  {
   "cell_type": "code",
   "execution_count": 4,
   "id": "ed6e1d50",
   "metadata": {},
   "outputs": [
    {
     "name": "stdout",
     "output_type": "stream",
     "text": [
      "[10, 20, 30, 40, 50]\n",
      "[5, 15, 19, 25, 41]\n",
      "[5, 10, 15, 19, 20, 25, 30, 40, 41, 50]\n"
     ]
    }
   ],
   "source": [
    "n = [10,20,30,40,50]\n",
    "m = [5,15,19,25,41]\n",
    "\n",
    "l = []\n",
    "\n",
    "i = 0\n",
    "j = 0\n",
    "\n",
    "while i < 5 and j < 5:\n",
    "    if n[i] <= m[j]:\n",
    "        l.append(n[i])\n",
    "        i += 1\n",
    "    else:\n",
    "        l.append(m[j])\n",
    "        j += 1\n",
    "\n",
    "while i < 5:\n",
    "    l.append(n[i])\n",
    "    i += 1\n",
    "\n",
    "while j < 5:\n",
    "    l.append(m[j])\n",
    "    j += 1\n",
    "\n",
    "print(n)\n",
    "print(m)\n",
    "print(l)"
   ]
  },
  {
   "cell_type": "markdown",
   "id": "02538358",
   "metadata": {},
   "source": [
    "# Insertion Sort"
   ]
  },
  {
   "cell_type": "code",
   "execution_count": 5,
   "id": "53562663",
   "metadata": {},
   "outputs": [
    {
     "name": "stdout",
     "output_type": "stream",
     "text": [
      "[10, 20, 30, 40, 50]\n"
     ]
    }
   ],
   "source": [
    "a = [10,40,50,20,30]\n",
    "\n",
    "for i in range(1,len(a)):\n",
    "    temp = a[i]\n",
    "    j = i - 1\n",
    "    while temp < a[j] and j >= 0:         # temp = 40, 10\n",
    "        a[j+1] = a[j]                     # i = 1\n",
    "        j = j-1                           # j = 0, 1, 0\n",
    "    a[j+1] = temp\n",
    "\n",
    "print(a)"
   ]
  },
  {
   "cell_type": "code",
   "execution_count": null,
   "id": "24c7d035",
   "metadata": {},
   "outputs": [],
   "source": []
  }
 ],
 "metadata": {
  "kernelspec": {
   "display_name": "Python 3 (ipykernel)",
   "language": "python",
   "name": "python3"
  },
  "language_info": {
   "codemirror_mode": {
    "name": "ipython",
    "version": 3
   },
   "file_extension": ".py",
   "mimetype": "text/x-python",
   "name": "python",
   "nbconvert_exporter": "python",
   "pygments_lexer": "ipython3",
   "version": "3.9.12"
  }
 },
 "nbformat": 4,
 "nbformat_minor": 5
}
