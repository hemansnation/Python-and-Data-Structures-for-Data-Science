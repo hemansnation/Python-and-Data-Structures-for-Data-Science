{
 "cells": [
  {
   "cell_type": "markdown",
   "id": "d3f49a33",
   "metadata": {},
   "source": [
    "# List\n",
    "\n",
    "**WAP to print length of the list without using len function**"
   ]
  },
  {
   "cell_type": "code",
   "execution_count": 1,
   "id": "1885206a",
   "metadata": {},
   "outputs": [
    {
     "name": "stdout",
     "output_type": "stream",
     "text": [
      "Length = 6\n"
     ]
    }
   ],
   "source": [
    "l = [11,12,22,3,4,16]\n",
    "i = 0\n",
    "\n",
    "while l[i:]:\n",
    "    i += 1\n",
    "\n",
    "print(\"Length =\", i)"
   ]
  },
  {
   "cell_type": "markdown",
   "id": "6a1bf65b",
   "metadata": {},
   "source": [
    "**WAP to print sum of all the elements in a list without using sum function**"
   ]
  },
  {
   "cell_type": "code",
   "execution_count": 2,
   "id": "283c543a",
   "metadata": {},
   "outputs": [
    {
     "name": "stdout",
     "output_type": "stream",
     "text": [
      "Sum = 68\n"
     ]
    }
   ],
   "source": [
    "l = [11,12,22,3,4,16]\n",
    "#       i\n",
    "i = 0\n",
    "s = 0\n",
    "\n",
    "while l[i:]:\n",
    "    s = s + l[i]         # s = 0, 11, 23\n",
    "    i += 1\n",
    "\n",
    "print(\"Sum =\", s)"
   ]
  },
  {
   "cell_type": "markdown",
   "id": "4e1c3016",
   "metadata": {},
   "source": [
    "**WAP to print the maximum value from a list without using max function**"
   ]
  },
  {
   "cell_type": "code",
   "execution_count": 3,
   "id": "dc5b8275",
   "metadata": {},
   "outputs": [
    {
     "name": "stdout",
     "output_type": "stream",
     "text": [
      "Maximum = 22\n"
     ]
    }
   ],
   "source": [
    "l = [11,12,22,3,4,16]\n",
    "#        m\n",
    "i = 0\n",
    "m = l[0]\n",
    "\n",
    "while l[i:]:\n",
    "    if m < l[i]:\n",
    "        m = l[i]\n",
    "    i += 1\n",
    "\n",
    "print(\"Maximum =\", m)"
   ]
  },
  {
   "cell_type": "markdown",
   "id": "814bbcec",
   "metadata": {},
   "source": [
    "**WAP to print the minimum value from a list without using min function**"
   ]
  },
  {
   "cell_type": "code",
   "execution_count": 4,
   "id": "1418ba48",
   "metadata": {},
   "outputs": [
    {
     "name": "stdout",
     "output_type": "stream",
     "text": [
      "Minimum = 3\n"
     ]
    }
   ],
   "source": [
    "l = [11,12,22,3,4,16]\n",
    "#    m\n",
    "i = 0\n",
    "m = l[0]\n",
    "\n",
    "while l[i:]:\n",
    "    if m > l[i]:\n",
    "        m = l[i]\n",
    "    i += 1\n",
    "\n",
    "print(\"Minimum =\", m)"
   ]
  },
  {
   "cell_type": "markdown",
   "id": "5edb2e06",
   "metadata": {},
   "source": [
    "**WAP to reverse of a list without using reverse method or slicing**"
   ]
  },
  {
   "cell_type": "code",
   "execution_count": 5,
   "id": "c3de25d8",
   "metadata": {},
   "outputs": [
    {
     "name": "stdout",
     "output_type": "stream",
     "text": [
      "16 4 3 22 12 11 "
     ]
    }
   ],
   "source": [
    "l = [11,12,22,3,4,16]\n",
    "#                 i\n",
    "i = len(l) - 1\n",
    "\n",
    "while i >= 0:\n",
    "    print(l[i], end=\" \")\n",
    "    i -= 1"
   ]
  },
  {
   "cell_type": "code",
   "execution_count": 8,
   "id": "c50738ba",
   "metadata": {},
   "outputs": [
    {
     "name": "stdout",
     "output_type": "stream",
     "text": [
      "[11, 12, 22, 3, 4, 16]\n",
      "[16, 4, 3, 22, 12, 11]\n"
     ]
    }
   ],
   "source": [
    "l = [11,12,22,3,4,16]\n",
    "#                 i\n",
    "a = []\n",
    "i = len(l) - 1\n",
    "\n",
    "while i >= 0:\n",
    "    a.append(l[i])\n",
    "    i -= 1\n",
    "\n",
    "print(l)\n",
    "print(a)"
   ]
  },
  {
   "cell_type": "markdown",
   "id": "9a209407",
   "metadata": {},
   "source": [
    "# Searching\n",
    "\n",
    "Linear Search"
   ]
  },
  {
   "cell_type": "code",
   "execution_count": 10,
   "id": "020f68e4",
   "metadata": {},
   "outputs": [
    {
     "name": "stdout",
     "output_type": "stream",
     "text": [
      "Enter an element to search: 71\n",
      "Search Success\n"
     ]
    }
   ],
   "source": [
    "l = [11,10,130,44,55,61,71,80,90,100]\n",
    "#    n\n",
    "\n",
    "i = 0\n",
    "n = int(input(\"Enter an element to search: \"))\n",
    "\n",
    "f = 0   # flagbit variable\n",
    "\n",
    "while l[i:]:\n",
    "    if n == l[i]:\n",
    "        f = 1\n",
    "        break\n",
    "    i += 1\n",
    "\n",
    "if f == 1:\n",
    "    print(\"Search Success\")\n",
    "else:\n",
    "    print(\"Element Not Found\")"
   ]
  },
  {
   "cell_type": "code",
   "execution_count": 11,
   "id": "ebbbee2c",
   "metadata": {},
   "outputs": [
    {
     "name": "stdout",
     "output_type": "stream",
     "text": [
      "Enter an element to search: 71\n",
      "Search Success and frequency = 2\n"
     ]
    }
   ],
   "source": [
    "l = [11,10,130,44,55,61,71,80,71,100]\n",
    "#    n\n",
    "\n",
    "i = 0\n",
    "n = int(input(\"Enter an element to search: \"))\n",
    "\n",
    "f = 0   # flagbit variable\n",
    "c = 0\n",
    "\n",
    "while l[i:]:\n",
    "    if n == l[i]:\n",
    "        f = 1\n",
    "        c += 1\n",
    "    i += 1\n",
    "\n",
    "if f == 1:\n",
    "    print(\"Search Success and frequency =\", c)\n",
    "else:\n",
    "    print(\"Element Not Found\")"
   ]
  },
  {
   "cell_type": "code",
   "execution_count": null,
   "id": "32ccad03",
   "metadata": {},
   "outputs": [],
   "source": []
  }
 ],
 "metadata": {
  "kernelspec": {
   "display_name": "Python 3 (ipykernel)",
   "language": "python",
   "name": "python3"
  },
  "language_info": {
   "codemirror_mode": {
    "name": "ipython",
    "version": 3
   },
   "file_extension": ".py",
   "mimetype": "text/x-python",
   "name": "python",
   "nbconvert_exporter": "python",
   "pygments_lexer": "ipython3",
   "version": "3.9.12"
  }
 },
 "nbformat": 4,
 "nbformat_minor": 5
}
