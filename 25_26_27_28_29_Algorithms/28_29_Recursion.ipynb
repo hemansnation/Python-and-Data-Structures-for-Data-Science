{
 "cells": [
  {
   "cell_type": "markdown",
   "id": "d716f934",
   "metadata": {},
   "source": [
    "# Recursion\n",
    "\n",
    "when a function call itself"
   ]
  },
  {
   "cell_type": "code",
   "execution_count": null,
   "id": "10f68cd1",
   "metadata": {},
   "outputs": [],
   "source": [
    "def mini():\n",
    "    \n",
    "    mini()"
   ]
  },
  {
   "cell_type": "code",
   "execution_count": 5,
   "id": "d808a722",
   "metadata": {},
   "outputs": [
    {
     "name": "stdout",
     "output_type": "stream",
     "text": [
      "Enter a number5\n",
      "Factorial = 120\n"
     ]
    }
   ],
   "source": [
    "# enter a number from user and print factorial of it\n",
    "# 5 -> 5*4*3*2*1 -> 120\n",
    "# 1 -> 1\n",
    "# 0 -> 1\n",
    "\n",
    "n = int(input(\"Enter a number\"))\n",
    "f = 1\n",
    "\n",
    "while n > 1:\n",
    "    f = f * n         # f = 1, 5, 20, 60, 120\n",
    "    n -= 1            # n = 5, 4, 3, 2, 1\n",
    "\n",
    "print(\"Factorial =\", f)"
   ]
  },
  {
   "cell_type": "code",
   "execution_count": 7,
   "id": "aa20a2cc",
   "metadata": {},
   "outputs": [
    {
     "name": "stdout",
     "output_type": "stream",
     "text": [
      "Enter a numner: 5\n",
      "120\n"
     ]
    }
   ],
   "source": [
    "# using recursion\n",
    "\n",
    "def fact(n):\n",
    "    if n == 1:\n",
    "        return 1                       # base case\n",
    "    else:\n",
    "        return n * fact(n-1)\n",
    "    #          3 * 2\n",
    "    #          \n",
    "\n",
    "a = int(input(\"Enter a numner: \"))\n",
    "\n",
    "print(fact(a))"
   ]
  },
  {
   "cell_type": "code",
   "execution_count": null,
   "id": "08434110",
   "metadata": {},
   "outputs": [],
   "source": [
    "\n",
    "\n",
    "\n",
    "\n",
    "\n",
    "main()"
   ]
  },
  {
   "cell_type": "markdown",
   "id": "027cd2f2",
   "metadata": {},
   "source": [
    "**Wrtie a program to print sum of all the values in a list using recursion**"
   ]
  },
  {
   "cell_type": "code",
   "execution_count": null,
   "id": "354e7a2f",
   "metadata": {},
   "outputs": [],
   "source": [
    "# l = [10,20,30,40]"
   ]
  },
  {
   "cell_type": "code",
   "execution_count": 8,
   "id": "c354674a",
   "metadata": {},
   "outputs": [
    {
     "name": "stdout",
     "output_type": "stream",
     "text": [
      "150\n"
     ]
    }
   ],
   "source": [
    "def summ(l):\n",
    "    if len(l) == 1:\n",
    "        return l[0]\n",
    "    else:\n",
    "        return l[0] + summ(l[1:])\n",
    "    #           10  + 140\n",
    "    #           \n",
    "    #           \n",
    "    #           \n",
    "\n",
    "print(summ([10,20,30,40,50]))\n",
    "#        150"
   ]
  },
  {
   "cell_type": "code",
   "execution_count": null,
   "id": "710d894c",
   "metadata": {},
   "outputs": [],
   "source": [
    "\n",
    "\n",
    "main()"
   ]
  },
  {
   "cell_type": "markdown",
   "id": "e8b0a0ee",
   "metadata": {},
   "source": [
    "**Fibonacci series**"
   ]
  },
  {
   "cell_type": "code",
   "execution_count": null,
   "id": "864b9c61",
   "metadata": {},
   "outputs": [],
   "source": [
    "0  1  1  2  3  5  8  13\n",
    "a  b  c"
   ]
  },
  {
   "cell_type": "code",
   "execution_count": 13,
   "id": "14de5652",
   "metadata": {},
   "outputs": [
    {
     "name": "stdout",
     "output_type": "stream",
     "text": [
      "enter limit0\n",
      "0  1  "
     ]
    }
   ],
   "source": [
    "n = int(input(\"enter limit\"))\n",
    "\n",
    "a = 0\n",
    "b = 1\n",
    "i = 1\n",
    "\n",
    "print(a, end = \"  \")\n",
    "print(b, end = \"  \")\n",
    "\n",
    "while i <= n - 2:                 # n = 7\n",
    "    c = a + b                     # a = 0, 1, 1, 2, 3, 5\n",
    "    print(c, end = \"  \")          # b = 1, 1, 2, 3, 5, 8\n",
    "    a = b                         # c = 1, 2, 3, 5, 8\n",
    "    b = c                         # i = 1, 2, 3, 4, 5, 6\n",
    "    i += 1"
   ]
  },
  {
   "cell_type": "code",
   "execution_count": null,
   "id": "81ac3b93",
   "metadata": {},
   "outputs": [],
   "source": [
    "0  1  1  2  3  5  8\n",
    "a  b  c\n",
    "      a  b  c"
   ]
  },
  {
   "cell_type": "code",
   "execution_count": 16,
   "id": "765c7f57",
   "metadata": {},
   "outputs": [
    {
     "name": "stdout",
     "output_type": "stream",
     "text": [
      "enter limit10\n",
      "0  1  1  2  3  5  8  13  21  34  "
     ]
    }
   ],
   "source": [
    "n = int(input(\"enter limit\"))\n",
    "\n",
    "a = 0\n",
    "b = 1\n",
    "i = 1\n",
    "\n",
    "while i <= n:                     # n = 7\n",
    "    print(a, end = \"  \")          # a = 0, 1, 1, 2, 3, 5\n",
    "                                  # b = 1, 1, 2, 3, 5, 8\n",
    "    c = a + b\n",
    "    a = b                         # c = 1, 2, 3, 5, 8\n",
    "    b = c                         # i = 1, 2, 3, 4, 5, 6\n",
    "    i += 1"
   ]
  },
  {
   "cell_type": "markdown",
   "id": "197c0467",
   "metadata": {},
   "source": [
    "# Day 29\n",
    "\n",
    "**print fibonacci series using recursion**"
   ]
  },
  {
   "cell_type": "code",
   "execution_count": 2,
   "id": "bf7f8e95",
   "metadata": {},
   "outputs": [],
   "source": [
    "def fibonacii(n):\n",
    "    if n == 1 or n == 2:\n",
    "        return 1\n",
    "    else:\n",
    "        return fibonacii(n - 1) + fibonacii(n - 2)\n",
    "    #          fibonacii(6) + fibonacii(5)\n",
    "    #          f(5) + f(4)\n",
    "    #   f(4) + f(3)\n",
    "    #f(3) + f(2)\n",
    "    #f(2) + f(1)"
   ]
  },
  {
   "cell_type": "code",
   "execution_count": 5,
   "id": "af0f28b3",
   "metadata": {},
   "outputs": [
    {
     "name": "stdout",
     "output_type": "stream",
     "text": [
      "34\n"
     ]
    }
   ],
   "source": [
    "print(fibonacii(9))"
   ]
  },
  {
   "cell_type": "code",
   "execution_count": 6,
   "id": "4b156cd8",
   "metadata": {},
   "outputs": [
    {
     "name": "stdout",
     "output_type": "stream",
     "text": [
      "1  1  2  3  5  8  13  21  34  "
     ]
    }
   ],
   "source": [
    "for i in range(1, 10):\n",
    "    print(fibonacii(i), end = \"  \")"
   ]
  },
  {
   "cell_type": "markdown",
   "id": "0c69e16b",
   "metadata": {},
   "source": [
    "**Write a program to calculate the value of a to the power of b**\n",
    "\n",
    "2 ** 3 -> 8"
   ]
  },
  {
   "cell_type": "code",
   "execution_count": 7,
   "id": "fba18126",
   "metadata": {},
   "outputs": [],
   "source": [
    "def power(a,b):\n",
    "    if b == 0:\n",
    "        return 1\n",
    "    elif a == 0:\n",
    "        return 0\n",
    "    elif b == 1:\n",
    "        return a\n",
    "    else:\n",
    "        return a * power(a, b - 1)\n",
    "    #          2 * power(2,2)\n",
    "    #          2 * 2"
   ]
  },
  {
   "cell_type": "code",
   "execution_count": 8,
   "id": "b5461c34",
   "metadata": {},
   "outputs": [
    {
     "name": "stdout",
     "output_type": "stream",
     "text": [
      "8\n"
     ]
    }
   ],
   "source": [
    "print(power(2,3))"
   ]
  },
  {
   "cell_type": "markdown",
   "id": "c44ad9cc",
   "metadata": {},
   "source": [
    "# Interview example questions\n",
    "\n",
    "**return the multiplication of 2 numbers without using multiply sign**"
   ]
  },
  {
   "cell_type": "code",
   "execution_count": 9,
   "id": "40d6bda8",
   "metadata": {},
   "outputs": [],
   "source": [
    "def multiply(a, b):\n",
    "    s = 0\n",
    "    while b > 0:\n",
    "        s = s + a\n",
    "        b = b - 1\n",
    "    return s"
   ]
  },
  {
   "cell_type": "code",
   "execution_count": 10,
   "id": "ae3a1aaa",
   "metadata": {},
   "outputs": [
    {
     "data": {
      "text/plain": [
       "20"
      ]
     },
     "execution_count": 10,
     "metadata": {},
     "output_type": "execute_result"
    }
   ],
   "source": [
    "multiply(5,4)"
   ]
  },
  {
   "cell_type": "code",
   "execution_count": 11,
   "id": "4cfd85a3",
   "metadata": {},
   "outputs": [
    {
     "data": {
      "text/plain": [
       "20"
      ]
     },
     "execution_count": 11,
     "metadata": {},
     "output_type": "execute_result"
    }
   ],
   "source": [
    "# recursion\n",
    "\n",
    "def multiplyR(a,b):\n",
    "    if b == 1:\n",
    "        return a\n",
    "    else:\n",
    "        return a + multiplyR(a, b - 1)\n",
    "\n",
    "multiplyR(5,4)"
   ]
  },
  {
   "cell_type": "markdown",
   "id": "260c08a9",
   "metadata": {},
   "source": [
    "# dynamic programming"
   ]
  },
  {
   "cell_type": "code",
   "execution_count": 13,
   "id": "af569c43",
   "metadata": {},
   "outputs": [],
   "source": [
    "# it is solving overlapping problems\n",
    "\n",
    "# cache the results"
   ]
  },
  {
   "cell_type": "code",
   "execution_count": 14,
   "id": "3d125d38",
   "metadata": {},
   "outputs": [],
   "source": [
    "def fibonacii(n):\n",
    "    if n == 1 or n == 2:\n",
    "        return 1\n",
    "    else:\n",
    "        return fibonacii(n - 1) + fibonacii(n - 2)"
   ]
  },
  {
   "cell_type": "code",
   "execution_count": 15,
   "id": "db1bd855",
   "metadata": {},
   "outputs": [],
   "source": [
    "# dynamic programming"
   ]
  },
  {
   "cell_type": "code",
   "execution_count": 16,
   "id": "82acfebf",
   "metadata": {},
   "outputs": [],
   "source": [
    "def fibonaciiDP(n, tracker = {}):\n",
    "    if n == 1 or n == 0:\n",
    "        return n\n",
    "    \n",
    "    if n > 1:\n",
    "        if n in tracker:\n",
    "            return tracker[n]\n",
    "        else:\n",
    "            result = fibonaciiDP(n - 1, tracker) + fibonaciiDP(n - 2, tracker)\n",
    "            tracker[n] = result\n",
    "            return result"
   ]
  },
  {
   "cell_type": "code",
   "execution_count": 20,
   "id": "2fff4937",
   "metadata": {},
   "outputs": [
    {
     "name": "stdout",
     "output_type": "stream",
     "text": [
      "13\n"
     ]
    }
   ],
   "source": [
    "print(fibonaciiDP(7))"
   ]
  },
  {
   "cell_type": "code",
   "execution_count": null,
   "id": "a5754169",
   "metadata": {},
   "outputs": [],
   "source": []
  }
 ],
 "metadata": {
  "kernelspec": {
   "display_name": "Python 3 (ipykernel)",
   "language": "python",
   "name": "python3"
  },
  "language_info": {
   "codemirror_mode": {
    "name": "ipython",
    "version": 3
   },
   "file_extension": ".py",
   "mimetype": "text/x-python",
   "name": "python",
   "nbconvert_exporter": "python",
   "pygments_lexer": "ipython3",
   "version": "3.9.12"
  }
 },
 "nbformat": 4,
 "nbformat_minor": 5
}
